{
 "cells": [
  {
   "cell_type": "markdown",
   "metadata": {},
   "source": [
    "<table class=\"table table-bordered\">\n",
    "    <tr>\n",
    "        <th style=\"text-align:center; width:35%\"><img src='https://scis.smu.edu.sg/sites/all/themes/smubase_nw2_rev/svg/logo-d-smu.svg' style=\"width: 300px; height: 90px; \"></th>\n",
    "        <th style=\"text-align:center;\"><h3>IS111 - In-Class Exercises</h3><h3>Week 1</h3></th>\n",
    "    </tr>\n",
    "</table>"
   ]
  },
  {
   "cell_type": "markdown",
   "metadata": {},
   "source": [
    "### Q1: Operators\n",
    "\n",
    "Without running the code below, what do you think the output will be?"
   ]
  },
  {
   "cell_type": "code",
   "execution_count": 1,
   "metadata": {
    "tags": []
   },
   "outputs": [
    {
     "name": "stdout",
     "output_type": "stream",
     "text": [
      "4.8\n",
      "-3.0\n",
      "-3.0\n",
      "4\n",
      "1\n",
      "1\n",
      "abc def\n"
     ]
    },
    {
     "ename": "TypeError",
     "evalue": "can only concatenate str (not \"int\") to str",
     "output_type": "error",
     "traceback": [
      "\u001b[1;31m---------------------------------------------------------------------------\u001b[0m",
      "\u001b[1;31mTypeError\u001b[0m                                 Traceback (most recent call last)",
      "\u001b[1;32mc:\\Users\\nicol\\Downloads\\Week 1 In-Class Exercises (v1.0).ipynb Cell 3'\u001b[0m in \u001b[0;36m<cell line: 9>\u001b[1;34m()\u001b[0m\n\u001b[0;32m      <a href='vscode-notebook-cell:/c%3A/Users/nicol/Downloads/Week%201%20In-Class%20Exercises%20%28v1.0%29.ipynb#W2sZmlsZQ%3D%3D?line=5'>6</a>\u001b[0m \u001b[39mprint\u001b[39m(\u001b[39m2\u001b[39m \u001b[39m+\u001b[39m \u001b[39m3\u001b[39m \u001b[39m*\u001b[39m \u001b[39m6\u001b[39m \u001b[39m%\u001b[39m \u001b[39m3\u001b[39m \u001b[39m*\u001b[39m\u001b[39m*\u001b[39m \u001b[39m2\u001b[39m \u001b[39m-\u001b[39m \u001b[39m1\u001b[39m)\n\u001b[0;32m      <a href='vscode-notebook-cell:/c%3A/Users/nicol/Downloads/Week%201%20In-Class%20Exercises%20%28v1.0%29.ipynb#W2sZmlsZQ%3D%3D?line=7'>8</a>\u001b[0m \u001b[39mprint\u001b[39m(\u001b[39m\"\u001b[39m\u001b[39mabc\u001b[39m\u001b[39m\"\u001b[39m \u001b[39m+\u001b[39m \u001b[39m\"\u001b[39m\u001b[39m \u001b[39m\u001b[39m\"\u001b[39m \u001b[39m+\u001b[39m \u001b[39m\"\u001b[39m\u001b[39mdef\u001b[39m\u001b[39m\"\u001b[39m)\n\u001b[1;32m----> <a href='vscode-notebook-cell:/c%3A/Users/nicol/Downloads/Week%201%20In-Class%20Exercises%20%28v1.0%29.ipynb#W2sZmlsZQ%3D%3D?line=8'>9</a>\u001b[0m \u001b[39mprint\u001b[39m(\u001b[39m\"\u001b[39;49m\u001b[39mabc\u001b[39;49m\u001b[39m\"\u001b[39;49m \u001b[39m+\u001b[39;49m \u001b[39m123\u001b[39;49m)\n",
      "\u001b[1;31mTypeError\u001b[0m: can only concatenate str (not \"int\") to str"
     ]
    }
   ],
   "source": [
    "print(2 + 3 * 3 / 5 - 2 + 8 % 5)\n",
    "print(15 % 5 - 15 / 5)\n",
    "print(10 / 2.5 / 2 - 5)\n",
    "print(11 // 4 * 2)\n",
    "print((3 + 5) * 2 % 3)\n",
    "print(2 + 3 * 6 % 3 ** 2 - 1)\n",
    "\n",
    "print(\"abc\" + \" \" + \"def\")\n",
    "print(\"abc\" + 123)\n",
    "\n"
   ]
  },
  {
   "cell_type": "markdown",
   "metadata": {},
   "source": [
    "#### Q1 Attempt #1\n",
    "\n",
    "\n",
    "1) 4.8\n",
    "2) -3.0\n",
    "3) -3.0\n",
    "4) 6.0\n",
    "5) 1.0 -> wrong, at no point do the integers become/interact w floats + no division [1]\n",
    "6) 1.0 -> wrong, same as Q5 [1]\n",
    "7) \"abc def\"\n",
    "8) type error"
   ]
  },
  {
   "cell_type": "markdown",
   "metadata": {},
   "source": [
    "### Q2: BMI Calculator\n",
    "\n",
    "You have probably heard about the body mass index or BMI. The definition of BMI from Wikipedia can be found below:\n",
    "\n",
    "\"The body mass index (BMI) or Quetelet index is a value derived from the mass (weight) and height of an individual. The BMI is defined as the body mass divided by the square of the body height, and is universally expressed in units of $\\text{kg}/\\text{m}^2$, resulting from mass in kilograms and height in metres.\"\n",
    "\n",
    "The formula to calculate BMI is also given below:\n",
    "\n",
    "$$\\text{BMI} = \\frac{\\text{mass}}{\\text{height}^2}$$\n",
    "\n",
    "Here mass is in kilograms and height is in metres.\n",
    "\n",
    "Write a piece of Python code that does the following:\n",
    "\n",
    "<ul>\n",
    "    <li>It prompts the user for his/her weight in kilograms.</li>\n",
    "    <li>It then prompts the user for his/her height in metres.</li>\n",
    "    <li>It calculates the BMI of this person and displays the BMI value to the screen.</li>\n",
    "</ul>\n",
    "\n",
    "A sample run of the code gives the following output:\n",
    "\n",
    "<img src=\"http://drive.google.com/uc?export=view&id=0B3N0YMArBdSBdHZqdnhDT2xzSEk\">"
   ]
  },
  {
   "cell_type": "code",
   "execution_count": 7,
   "metadata": {},
   "outputs": [
    {
     "name": "stdout",
     "output_type": "stream",
     "text": [
      "Your BMI is 20.76\n"
     ]
    }
   ],
   "source": [
    "mass = float(input(\"What's your weight (in kg)?\"))\n",
    "height = float(input(\"What's your height (in m)?\"))\n",
    "bmi = mass / height ** 2\n",
    "print(f\"Your BMI is {bmi:.2f}\")"
   ]
  },
  {
   "cell_type": "markdown",
   "metadata": {},
   "source": [
    "### Q3: Odd/Even Numbers\n",
    "\n",
    "Write a piece of Python code that does the following:\n",
    "\n",
    "<ul>\n",
    "    <li>It sequentially prompts the user for 4 integers.</li>\n",
    "    <li>It computes and displays the percentage of odd numbers and even numbers for these 4 integers, without using any conditional statements like if-then-else.</li>\n",
    "</ul>\n",
    "\n",
    "For instance, if the 4 numbers are 1, 7, 4, 6, then the percentage of odd and even numbers that are generated are 50% and 50% respectively. If the 4 numbers are 4, 2, 8, 5, then the percentage of odd and even numbers that are generated are 75% and 25% respectively.\n",
    "\n",
    "Hint: You may want to use the modulo-2 operation to determine if a number is odd or even.\n"
   ]
  },
  {
   "cell_type": "code",
   "execution_count": 13,
   "metadata": {},
   "outputs": [
    {
     "ename": "SyntaxError",
     "evalue": "invalid decimal literal (2414839314.py, line 27)",
     "output_type": "error",
     "traceback": [
      "\u001b[1;36m  Input \u001b[1;32mIn [13]\u001b[1;36m\u001b[0m\n\u001b[1;33m    percentage_odd = zero_or_one.count(1) / len(zero_or_one) * 100:.0f\u001b[0m\n\u001b[1;37m                                                                    ^\u001b[0m\n\u001b[1;31mSyntaxError\u001b[0m\u001b[1;31m:\u001b[0m invalid decimal literal\n"
     ]
    }
   ],
   "source": [
    "### Note in exam an inelegant solution works because 1) no time and 2)\n",
    "\n",
    "\n",
    "### CONDITIONAL STATEMENT SOLUTION\n",
    "# n = 0\n",
    "# list_of_numbers = []\n",
    "# while n < 4: -> this is a conditional statement, condition is n < 4\n",
    "#     number = int(input(f\"Input an integer: ({n+1}/4 integers)\"))\n",
    "#     list_of_numbers.append(number)\n",
    "#     n += 1\n",
    "\n",
    "# def modulo_2(number):\n",
    "#     return number % 2\n",
    "\n",
    "# zero_or_one = list(map(modulo_2, list_of_numbers))\n",
    "# percentage_odd = zero_or_one.count(1) / len(zero_or_one) * 100\n",
    "# percentage_even = 100 - percentage_odd\n",
    "\n",
    "# print(f\"In your list of numbers, {list_of_numbers}, {percentage_odd}% are odd and {percentage_even}% are even.\")\n",
    "\n",
    "## BRUTE FORCE SOLUTION\n",
    "number_1 = int(input(f\"Input an integer: (1/4 integers)\"))\n",
    "number_2 = int(input(f\"Input an integer: (2/4 integers)\"))\n",
    "number_3 = int(input(f\"Input an integer: (3/4 integers)\"))\n",
    "number_4 = int(input(f\"Input an integer: (4/4 integers)\"))\n",
    "\n",
    "# list_of_numbers = [number_1, number_2, number_3, number_4]\n",
    "odd_numbers = number_1 % 2 + number_2 % 2 + number_3 % 2 + number_4 % 2\n",
    "print(f\"{odd_numbers * 25}% of numbers are odd while {100 - odd_numbers * 25}% are even.\")\n",
    "\n",
    "\n",
    "\n"
   ]
  },
  {
   "cell_type": "code",
   "execution_count": 25,
   "metadata": {},
   "outputs": [
    {
     "name": "stdout",
     "output_type": "stream",
     "text": [
      "3 is a factor of 17 : False\n"
     ]
    }
   ],
   "source": [
    "# Q4: Write a program tht prompts the user for two numbers (both int): num1 and num2. The program then prints whether num1 is a factor of num2. Assume correct inputs are given. Note every interger is a factor of 0.\n",
    "\n",
    "num1 = int(input(\"Enter num1\"))\n",
    "num2 = int(input(\"Enter num2\"))\n",
    "\n",
    "# prof don like to test booleans haha\n",
    "# (num2 % num1) == 0) will give a boolean, no need to convert with bool()\n",
    "print(f\"{num1} is a factor of {num2} : {(num2 % num1) == 0}\")"
   ]
  },
  {
   "cell_type": "code",
   "execution_count": 30,
   "metadata": {},
   "outputs": [
    {
     "name": "stdout",
     "output_type": "stream",
     "text": [
      "1\n",
      "2\n",
      "3\n",
      "4\n",
      "5\n",
      "14\n"
     ]
    }
   ],
   "source": [
    "# Q5: Write a program that prompts the user for a 5 digit number, then pints the sum of digits, assuming all 5 digits are input. Do not use string processing\n",
    "\n",
    "num = int(input(\"Enter a 5 digit number\"))\n",
    "\n",
    "# use modulo and floor division\n",
    "digit_10k = num // 10000\n",
    "print(digit_10k)\n",
    "\n",
    "# modulo num by 10000 to give the last 4 digits, then floor divide by 1000 to get the second digit\n",
    "# keep it in this format instead of continually reassigning variables. very confusing if you give each floor division result (12345, 2345, 345, 45, 5 etc) a varaiable\n",
    "digit_1k = num % 10000 // 1000\n",
    "print(digit_1k)\n",
    "\n",
    "# similarly, modulo num by 10000, and 1000 to give the last 3 digits, then floor divide by 100 to get third digit\n",
    "digit_100s = num % 10000 % 1000 // 100\n",
    "print(digit_100s)\n",
    "\n",
    "digit_10s = num % 10000 % 1000 % 100 // 10\n",
    "print(digit_10s)\n",
    "\n",
    "digit_1s = num % 10000 % 1000 % 100 % 10\n",
    "(print(digit_1s))\n",
    "\n",
    "sum = digit_10k + digit_10k + digit_100s + digit_10s + digit_1s\n",
    "(print(sum))\n"
   ]
  },
  {
   "cell_type": "code",
   "execution_count": 45,
   "metadata": {},
   "outputs": [
    {
     "name": "stdout",
     "output_type": "stream",
     "text": [
      "1 1 1\n",
      "3661 seconds is 01:01:01.\n"
     ]
    }
   ],
   "source": [
    "# Q6: Write a program that prompts the user for an integer represening time in seconds, and convert it to hours, minutes and secnds, in the format H:M:S.\n",
    "\n",
    "time_in_seconds = int(input(\"Enter time in seconds:\"))\n",
    "hours = time_in_seconds // 3600\n",
    "\n",
    "# minutes may overrun if you use time_in_seconds // 60 % 60. get the hours out of the way first, then floor divide (quotient) by 60 \n",
    "minutes = time_in_seconds % 3600 // 60\n",
    "seconds = time_in_seconds % 60\n",
    "\n",
    "print(hours, minutes, seconds)\n",
    "print(f\"{time_in_seconds} seconds is {hours:02d}:{minutes:02d}:{seconds:02d}.\")"
   ]
  }
 ],
 "metadata": {
  "kernelspec": {
   "display_name": "Python 3.10.1 64-bit",
   "language": "python",
   "name": "python3"
  },
  "language_info": {
   "codemirror_mode": {
    "name": "ipython",
    "version": 3
   },
   "file_extension": ".py",
   "mimetype": "text/x-python",
   "name": "python",
   "nbconvert_exporter": "python",
   "pygments_lexer": "ipython3",
   "version": "3.10.1"
  },
  "vscode": {
   "interpreter": {
    "hash": "369f2c481f4da34e4445cda3fffd2e751bd1c4d706f27375911949ba6bb62e1c"
   }
  }
 },
 "nbformat": 4,
 "nbformat_minor": 2
}
