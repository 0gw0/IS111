{
 "cells": [
  {
   "cell_type": "code",
   "execution_count": null,
   "source": [
    "import greet\r\n",
    "\r\n",
    "name = input('Enter your name :')\r\n",
    "greet.say_hello(name)\r\n",
    "greet.say_bye(name)"
   ],
   "outputs": [],
   "metadata": {
    "tags": []
   }
  },
  {
   "cell_type": "code",
   "execution_count": null,
   "source": [
    "import math\r\n",
    "\r\n",
    "# prompt the user for a number\r\n",
    "num = float(input('Enter a number :'))\r\n",
    "# Calculate the square root of num\r\n",
    "result = math.sqrt(num) \r\n",
    "# display the result\r\n",
    "print('Square root of',num,'is :',result)\r\n"
   ],
   "outputs": [],
   "metadata": {}
  }
 ],
 "metadata": {
  "kernelspec": {
   "name": "python3",
   "display_name": "Python 3.10.5 64-bit"
  },
  "language_info": {
   "codemirror_mode": {
    "name": "ipython",
    "version": 3
   },
   "file_extension": ".py",
   "mimetype": "text/x-python",
   "name": "python",
   "nbconvert_exporter": "python",
   "pygments_lexer": "ipython3",
   "version": "3.10.5"
  },
  "interpreter": {
   "hash": "2c54924f0d92a06eb0df6f9541c4ebff5d3172c463ecfbb487fe5bdaeac2a253"
  }
 },
 "nbformat": 4,
 "nbformat_minor": 2
}