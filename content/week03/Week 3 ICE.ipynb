{
 "cells": [
  {
   "cell_type": "markdown",
   "metadata": {},
   "source": [
    "### Q1\n",
    "\n",
    "a) \"a >= b\", \"a <= b\" in new line   \n",
    "b) \"a >= b\"   \n",
    "c) False, True   \n",
    "d) \"Good!\", \"True\"   "
   ]
  },
  {
   "cell_type": "code",
   "execution_count": 1,
   "metadata": {},
   "outputs": [
    {
     "name": "stdout",
     "output_type": "stream",
     "text": [
      "Good!\n",
      "True\n"
     ]
    }
   ],
   "source": [
    "def test_if_else(condition1, condition2):\n",
    "    if (condition1):\n",
    "        print(\"Great!\")\n",
    "        return True\n",
    "    elif(condition2):\n",
    "        print(\"Good!\")\n",
    "        return True\n",
    "    else:\n",
    "        print(\"Okay\")\n",
    "        return False\n",
    "\n",
    "result = test_if_else(4 // 2 != 0, 3 > 2 == 1)\n",
    "print(result)\n",
    "\n"
   ]
  },
  {
   "cell_type": "code",
   "execution_count": null,
   "metadata": {},
   "outputs": [],
   "source": [
    "'''\n",
    "Q2a) Assume the days of a week are numbered 0, 1, 2, 3, 4, 5 and 6 from Sunday to Saturday. Write a function called get_day_of_week which takes in a number between 0 and 6 (both inclusive) and returns a string that represents the corresponding day of a week. For example, if the number passed to the function is 4, the function should return 'Thursday'.\n",
    "\n",
    "'''\n",
    "\n",
    "# Don't use if else, use tuple\n",
    "# corr_num = int(input(\"Input an integer from 0 to 6: \"))\n",
    "\n",
    "# def get_day_of_week(num):\n",
    "#     if num == 0:\n",
    "#         return \"Sunday\"\n",
    "#     elif num == 1:\n",
    "#         return \"Monday\"\n",
    "#     elif num == 2:\n",
    "#         return \"Tuesday\"\n",
    "#     elif num == 3:\n",
    "#         return \"Wednesday\"\n",
    "#     elif num == 4:\n",
    "#         return \"Thursday\"\n",
    "#     elif num == 5:\n",
    "#         return \"Friday\"\n",
    "#     elif num == 6:\n",
    "#         return \"Saturday\"\n",
    "\n",
    "# print(f\"{get_day_of_week(corr_num)}\")\n",
    "\n",
    "def get_day_of_week(num):\n",
    "    days = (\"Sunday\", \"Monday\", \"Tuesday\", \"Wednesday\", \"Thursday\", \"Friday\", \"Saturday\")\n",
    "    return days[num]"
   ]
  },
  {
   "cell_type": "code",
   "execution_count": null,
   "metadata": {},
   "outputs": [],
   "source": [
    "'''\n",
    "Q2b)\tPrompt the user for a number between 0 and 6 (both inclusive). Assume that the user is always going to enter an integer. Call the function above and then display on the screen the corresponding day of a week. \n",
    "a.\tIf the user enters a number below 0, display the following error message:  'Your number should be at least 0.' \n",
    "b.\tIf the user enters a number above 6, display the following error message: 'Your number should be at most 6.'\n",
    "'''\n",
    "input_num = int(input(\"Input an integer from 0 to 6: \"))\n",
    "if input_num < 0:\n",
    "    print(\"Your number should be at least 0\")\n",
    "elif input_num > 6:\n",
    "    print(\"Your number should be at most 6\")\n",
    "else:\n",
    "    print(f\"{get_day_of_week(input_num)}\")"
   ]
  },
  {
   "cell_type": "code",
   "execution_count": 4,
   "metadata": {},
   "outputs": [
    {
     "name": "stdout",
     "output_type": "stream",
     "text": [
      "5650.0\n",
      "375.0\n"
     ]
    }
   ],
   "source": [
    "'''\n",
    "Q4a) Write a function called calculate_income_tax() that takes in the annual taxable income of a person and returns the total tax the person has to pay. The function should be able to handle any income value of 0.0 and above. Use conditional statements to help you with the implementation.\n",
    "\n",
    "Q4b) Prompt the user for his/her annual taxable income and display the tax he/she has to pay. Two sample runs are shown below.\n",
    "'''\n",
    "\n",
    "# bruh no for loops or lists to iterate thru damn sian\n",
    "# where's my case-swtich :( python 3.10 has it but they're not gna teach it\n",
    "def calculate_income_tax(income):\n",
    "    tax = 0\n",
    "    if income > 20000:\n",
    "        tax += (income - 20000) * 0.02\n",
    "    if income > 30000:\n",
    "        tax += (income - 30000) * 0.015\n",
    "    if income > 40000:\n",
    "        tax += (income - 40000) * 0.035\n",
    "    if income > 80000:\n",
    "        tax += (income - 80000) * 0.045\n",
    "    if income > 120000:\n",
    "        tax += (income - 120000) * 0.045\n",
    "    if income > 160000:\n",
    "        tax += (income - 160000) * 0.03\n",
    "    if income > 200000:\n",
    "        tax += (income - 200000) * 0.01\n",
    "    if income > 240000:\n",
    "        tax += (income - 240000) * 0.005\n",
    "    if income > 280000:\n",
    "        tax += (income - 280000) * 0.005\n",
    "    if income > 320000:\n",
    "        tax += (income - 320000) * 0.02\n",
    "    return tax\n",
    "\n",
    "print(calculate_income_tax(100000))\n",
    "print(calculate_income_tax(35000))\n",
    "\n",
    "'''\n",
    "use if elif\n",
    "\n",
    "if income > 20000:\n",
    "    tax = (income - 20000) * 0.02\n",
    "    return tax\n",
    "elif income > 30000:\n",
    "    tax = 200 + (income - 30000) * 0.035\n",
    "    return tax\n",
    "...continue downwards...\n",
    "'''"
   ]
  },
  {
   "cell_type": "code",
   "execution_count": null,
   "metadata": {},
   "outputs": [],
   "source": [
    "'''\n",
    "Q5) What are the values of the following expressions?   \n",
    "•\tnot True or (3 >= 3 or 9 < 4) and False\n",
    "-> False or True and False\n",
    "-> False or False\n",
    "-> False\n",
    "\n",
    "•\tnot True or 3 >= 3 or 9 < 4 and False   \n",
    "-> False or True or False and False\n",
    "-> False or True or False\n",
    "-> True or False\n",
    "-> True\n",
    "\n",
    "•\tFalse == (False or not True) or not (2 * 4 // 3 == 1)   \n",
    "-> False == False or not False\n",
    "-> True or True\n",
    "-> True\n",
    "'''"
   ]
  },
  {
   "cell_type": "code",
   "execution_count": 12,
   "metadata": {},
   "outputs": [
    {
     "name": "stdout",
     "output_type": "stream",
     "text": [
      "False\n"
     ]
    }
   ],
   "source": [
    "'''\n",
    "need to know True/False Tables and De Morgans Law\n",
    "\n",
    "Q6)\n",
    "not ( not ( a and not b ) or ( b or not a ) )\n",
    "-> not(not(a and not b)) and not(b or not a))\n",
    "-> a and not b and not b and a\n",
    "-> a and not b\n",
    "\n",
    "if a = True, b = True\n",
    "-> True and Not True\n",
    "-> False\n",
    "\n",
    "if a = True, b = False\n",
    "-> True and True\n",
    "-> True\n",
    "\n",
    "if a = False, b = True\n",
    "-> False and False\n",
    "-> False\n",
    "\n",
    "if a = False, b = False\n",
    "-> False and True\n",
    "-> False\n",
    "\n",
    "'''\n",
    "a = False\n",
    "b = False\n",
    "print(not ( not ( a and not b ) or ( b or not a ) ))"
   ]
  },
  {
   "cell_type": "code",
   "execution_count": 6,
   "metadata": {},
   "outputs": [
    {
     "name": "stdout",
     "output_type": "stream",
     "text": [
      "You need to pay 476.8\n"
     ]
    }
   ],
   "source": [
    "'''\n",
    "Q7) A shop that sells mooncakes offers discount based on how many boxes of mooncakes a customer is going to buy.\n",
    "•\tThe shop sells the following two brands of mooncakes:\n",
    "o\tTung Lok: $55.40 / box\n",
    "o\tMan Fu Yuan: $59.60 / box\n",
    "•\tIf a customer buys 5 or more boxes of mooncakes of the same brand, a discount of 20// will be applied.\n",
    "•\tIf a customer buys between 2 and 4 boxes of mooncakes of the same brand, a discount of 10// will be applied.\n",
    "•\tIf a customer buys only 1 box of mooncakes, no discount is applied.\n",
    "\n",
    "a)\tWrite a function called get_discount_rate. This function takes in a parameter called num_boxes that indicates how many boxes of mooncakes of a particular brand a customer wants to buy. The function returns the discount rate. For example, if num_boxes is 6, the function returns 0.2. The function returns 0.0 if no discount is offered.\n",
    "\n",
    "'''\n",
    "def get_discount_rate(num_boxes):\n",
    "    if num_boxes >= 5:\n",
    "        return 0.2\n",
    "    elif num_boxes >= 2:\n",
    "        return 0.1\n",
    "    else:\n",
    "        return 0.0\n",
    "\n",
    "'''\n",
    "b)\tWrite another function called calculate_total_amount. This function takes in two parameters: (1) brand, which is a string indicating the brand of mooncakes, and (2) num_boxes, which indicates the number of boxes a customer wants to buy. The function returns the total amount the customer has to pay for buying that number of boxes of mooncakes of that brand.\n",
    "'''\n",
    "\n",
    "def calculate_total_amount(brand, num_boxes):\n",
    "    if brand == \"Tung Lok\":\n",
    "        return 55.40 * num_boxes * (1 - get_discount_rate(num_boxes))\n",
    "    if brand == \"Man Fu Yuan\":\n",
    "        return 59.60 * num_boxes * (1 - get_discount_rate(num_boxes))\n",
    "\n",
    "'''\n",
    "c)\tPrompt the customer for the brand of mooncakes he/she wants to buy and the number of boxes he/she wants to buy. Display the amount the customer has to pay. You can assume that the customer is always going to enter either “Tung Lok” or “Man Fu Yuan” as the brand and an integer as the number of boxes.\n",
    "'''\n",
    "\n",
    "input_brand = input(\"Which brand do you want to buy? \")\n",
    "input_numbox = int(input(\"How many boxes do you want to buy?\"))\n",
    "total = calculate_total_amount(input_brand, input_numbox)\n",
    "print(f\"You need to pay {round(total, 2)}\")"
   ]
  },
  {
   "cell_type": "code",
   "execution_count": 13,
   "metadata": {},
   "outputs": [
    {
     "name": "stdout",
     "output_type": "stream",
     "text": [
      "(2, 13.0)\n",
      "You can buy 2500 grams of honey. Your change will be 2.5\n"
     ]
    }
   ],
   "source": [
    "'''\n",
    "Q8)\n",
    "A shop sells honey in two sizes of jars. A 500g jar is priced at $58.50, while a 1kg jar of honey is priced at $98.50.\n",
    "\n",
    "i.\tCreate a file called retail_utility.py. Inside the file, write a function called calculate_max_quantity_and_change. This function takes in two parameters:\n",
    "\n",
    "    a.\tunit_price: The unit price of an item (e.g., $58.50).\n",
    "    b.\tamount: The total amount of money a customer wants to spend to buy that item.\n",
    "\n",
    "This function returns a tuple that contains two values: (1) The maximum quantity of that item the customer can buy with the specified amount of money. (2) The change (remaining amount of money) the customer has after buying the maximum quantity of that item. For example, if unit_price is $58.50 and amount is $130.00, then the function should return 2 as the maximum quantity and $13.00 as the change, and hence it should return the tuple (2, 13.0).\n",
    "\n",
    "'''\n",
    "# this is inside a retail_utility.py file but i'm too lazy to make it\n",
    "\n",
    "def calculate_max_quantity_and_change(unit_price, amount):\n",
    "    max_qty = int(amount > unit_price)\n",
    "    change = round(amount // unit_price, 2)\n",
    "    return max_qty, change\n",
    "\n",
    "print(calculate_max_quantity_and_change(58.50, 130.00))\n",
    "\n",
    "'''\n",
    "ii.\tCreate another file called purchase_honey.py. Inside the file, prompt the user for the amount of money he/she wants to spend to buy honey from this shop. Assume that the user wants to maximize the total amount of honey he/she could buy. Use the function you've implemented above to calculate the total amount of honey he/she could buy and the remaining amount of money he/she has. Use the function you have implemented in retail_utility.py to help you.\n",
    "'''\n",
    "\n",
    "# import retail_utility\n",
    "\n",
    "def total_honey(money):\n",
    "    # one_kilos_and_change = calculate_max_quantity_and_change(98.50, money) - convert out from tuple\n",
    "    one_kilos, change = calculate_max_quantity_and_change(98.50, money)\n",
    "    # five_hundreds_and_change = calculate_max_quantity_and_change(58.50, one_kilos_and_change[1])\n",
    "    five_hundreds, change = calculate_max_quantity_and_change(58.50, change)\n",
    "    # total_honey = one_kilos_and_change[0] * 1000 + round(five_hundreds_and_change[0] * 500, 2)\n",
    "    total_honey = one_kilos * 1000 + five_hundreds * 500\n",
    "    return total_honey, change\n",
    "\n",
    "money_avail = float(input(\"How much money do you want to spend?\"))\n",
    "honey_and_change = total_honey(money_avail)\n",
    "print(f\"You can buy {honey_and_change[0]} grams of honey. You have ${honey_and_change[1]} left as your change\")\n"
   ]
  },
  {
   "cell_type": "code",
   "execution_count": 18,
   "metadata": {},
   "outputs": [
    {
     "name": "stdout",
     "output_type": "stream",
     "text": [
      "$10 note: 5\n",
      "$2 note: 1\n",
      "$1 coin: 1\n",
      "10 cent coin: 8\n",
      "1 cent coin: 4\n"
     ]
    }
   ],
   "source": [
    "'''\n",
    "Q9)\n",
    "Assume that a store in Singapore has (only) the following bank notes and coins: \n",
    "Bank notes: $2, $5, $10 \n",
    "Coins: 1 cent, 5 cents, 10 cents, $1 \n",
    "Write a program that computes the number of minimum number of notes and coins, for a given change, to be returned to the customer.   \n",
    "Here is an example of how the output may look like. Notice that the bank note/coin is printed out only if there is at least one of that bank note/coin to be returned as change to the customer.\n",
    "\n",
    "What is the change? $53.84 \n",
    "$10 note: 5 \n",
    "$2 note: 1 \n",
    "$1 coin: 1 \n",
    "10 cents coin: 8 \n",
    "1 cent coin: 4 \n",
    "\n",
    "You will need to use the modulo (remainder) and floor division functions in your answer.  \n",
    "You should have no more than 40 lines of code in your answer (excluding blank lines).  \n",
    "\n",
    "'''\n",
    "\n",
    "change_given = float(input(\"What is the change? \"))\n",
    "def min_notes_coins(change):\n",
    "    ten_dollar = int(change // 10)\n",
    "    five_dollar = int(change % 10 // 5)\n",
    "    two_dollar = int(change % 10 % 5 // 2)\n",
    "    one_dollar = int(change % 10 % 5 % 2 // 1)\n",
    "    ten_cents = int(change % 10 % 5 % 2 % 1 // 0.1)\n",
    "    five_cents = int(change % 10 % 5 % 2 % 1 % 0.1 // 0.05)\n",
    "    one_cent = int(change % 10 % 5 % 2 % 1 % 0.1 % 0.05 // 0.01)\n",
    "    total = (ten_dollar, five_dollar, two_dollar, one_dollar, ten_cents, five_cents, one_cent)\n",
    "    return total\n",
    "\n",
    "total = min_notes_coins(change_given)\n",
    "\n",
    "if total[0] > 0:\n",
    "    print(f\"$10 note: {total[0]}\")\n",
    "if total[1] > 0:\n",
    "    print(f\"$5 note: {total[1]}\")\n",
    "if total[2] > 0:\n",
    "    print(f\"$2 note: {total[2]}\")\n",
    "if total[3] > 0:\n",
    "    print(f\"10 cents coin: {total[3]}\")\n",
    "if total[4] > 0:\n",
    "    print(f\"5 cent coin: {total[4]}\")\n",
    "if total[5] > 0:\n",
    "    print(f\"1 cent coin: {total[5]}\")\n"
   ]
  },
  {
   "cell_type": "code",
   "execution_count": 1,
   "metadata": {},
   "outputs": [
    {
     "name": "stdout",
     "output_type": "stream",
     "text": [
      "non empty strings are True and will be executed\n",
      "Non zero numbers converted to boolean are True\n"
     ]
    }
   ],
   "source": [
    "# Q10 What is the result of the code below?\n",
    "\n",
    "st = False\n",
    "if \"st\":\n",
    "    print(\"Non empty strings are True and will be executed\")\n",
    "if bool(-1):\n",
    "    print(\"Non zero numbers converted to boolean are True\")"
   ]
  },
  {
   "cell_type": "code",
   "execution_count": 3,
   "metadata": {},
   "outputs": [
    {
     "name": "stdout",
     "output_type": "stream",
     "text": [
      "6\n"
     ]
    }
   ],
   "source": [
    "# eICE3 Q1\n",
    "\n",
    "def compute_factorial(n):\n",
    "    if n == 1:\n",
    "        return n\n",
    "    else:\n",
    "        return n * compute_factorial(n-1)\n",
    "\n",
    "print(compute_factorial(3))\n",
    "\n",
    "def get_num_digits(n):\n",
    "    if n < 10:\n",
    "        return 1\n",
    "    else:\n",
    "        return 1 + get_num_digits(n//10)"
   ]
  }
 ],
 "metadata": {
  "kernelspec": {
   "display_name": "Python 3.10.1 64-bit",
   "language": "python",
   "name": "python3"
  },
  "language_info": {
   "codemirror_mode": {
    "name": "ipython",
    "version": 3
   },
   "file_extension": ".py",
   "mimetype": "text/x-python",
   "name": "python",
   "nbconvert_exporter": "python",
   "pygments_lexer": "ipython3",
   "version": "3.10.1"
  },
  "orig_nbformat": 4,
  "vscode": {
   "interpreter": {
    "hash": "369f2c481f4da34e4445cda3fffd2e751bd1c4d706f27375911949ba6bb62e1c"
   }
  }
 },
 "nbformat": 4,
 "nbformat_minor": 2
}
