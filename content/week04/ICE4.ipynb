{
 "cells": [
  {
   "cell_type": "code",
   "execution_count": 8,
   "metadata": {},
   "outputs": [
    {
     "name": "stdout",
     "output_type": "stream",
     "text": [
      "H e l l o o\n"
     ]
    }
   ],
   "source": [
    "'''\n",
    "Q1i) Prompt the user for a message. Display the message character by character but separate every two adjacent characters by a space.\n",
    "'''\n",
    "\n",
    "input_msg = input(\"Enter a message: \")\n",
    "for ch in input_msg:\n",
    "    print(ch, end = \" \")\n",
    "\n",
    "print(input_msg[-1])\n",
    "\n",
    "# for ch2 in input_msg:\n",
    "#     if input_msg[-1]:\n",
    "#         print(ch2)\n",
    "#     else:\n",
    "#         print(f\"{ch2}-\", end = \"\")"
   ]
  },
  {
   "cell_type": "code",
   "execution_count": 12,
   "metadata": {},
   "outputs": [
    {
     "name": "stdout",
     "output_type": "stream",
     "text": [
      "u-u-w-w-u-u\n"
     ]
    }
   ],
   "source": [
    "'''\n",
    "Q1ii) Now write another piece of code that displays the message from the user character by character but separate every two adjacent characters by a hyphen\n",
    "'''\n",
    "input_msg2 = input(\"Enter a message: \")\n",
    "for i in range(len(input_msg2)):\n",
    "    if i < len(input_msg2) - 1:\n",
    "        print(f\"{input_msg2[i]}-\", end = \"\")\n",
    "    else:\n",
    "        print(input_msg2[i])\n",
    "\n",
    "# there is probably a better way to do this"
   ]
  },
  {
   "cell_type": "code",
   "execution_count": 14,
   "metadata": {},
   "outputs": [
    {
     "name": "stdout",
     "output_type": "stream",
     "text": [
      "H-e-l-l-o-!"
     ]
    }
   ],
   "source": [
    "'''\n",
    "Q1iii) Now let us make the code above re-usable and more general.\n",
    "Define a function called print_message_with_separators that does the following:\n",
    " The function takes in two parameters:\n",
    "o msg (of type str): a message string (e.g., 'Hello!')\n",
    "o sep (of type str): a separator string (e.g., '-')\n",
    " The function prints out msg character by character, but it inserts sep between every two\n",
    "adjacent characters of msg.\n",
    " The function does not return any value\n",
    "'''\n",
    "\n",
    "def print_message_with_seperators(msg, sep):\n",
    "    print(msg[0], end =\"\")\n",
    "    for i in range(1, len(msg)):\n",
    "        print(sep, end = \"\")\n",
    "        print(msg[i], end = \"\")\n",
    "\n",
    "print_message_with_seperators(\"Hello!\", \"-\")"
   ]
  },
  {
   "cell_type": "code",
   "execution_count": 2,
   "metadata": {},
   "outputs": [
    {
     "name": "stdout",
     "output_type": "stream",
     "text": [
      "- 4 * - 7 8 - * 11 - 13 14 # 16 "
     ]
    }
   ],
   "source": [
    "'''\n",
    "Q2)\n",
    "Define a function called display_numbers. The function takes in two parameters: m and n. It is assumed that both m and n are integers, and m is less than or equal to n. The function displays all the integers between m and n (both inclusive) one by one, separated by spaces. However, the function handles the following numbers in a special way:\n",
    "•\tIf the number is a multiple of 3 but not a multiple of 5, the function displays a hyphen instead of the number.\n",
    "•\tIf the number is a multiple of 5 but not a multiple of 3, the function displays an asterisk instead of the number.\n",
    "•\tIf the number is a multiple of both 3 and 5, the function displays a # instead of the number.\n",
    "'''\n",
    "def display_numbers(m, n):\n",
    "    for number in range(m, n + 1):\n",
    "        if number % 3 == 0 and number % 5 == 0:\n",
    "            print(\"#\", end=\" \")\n",
    "        elif number % 3 == 0:\n",
    "            print(\"-\", end=\" \")\n",
    "        elif number % 5 == 0:\n",
    "            print(\"*\", end = \" \")\n",
    "        else:\n",
    "            print(number, end = \" \")\n",
    "\n",
    "display_numbers(3,16)"
   ]
  },
  {
   "cell_type": "code",
   "execution_count": 3,
   "metadata": {},
   "outputs": [
    {
     "name": "stdout",
     "output_type": "stream",
     "text": [
      "The sum is 49\n"
     ]
    }
   ],
   "source": [
    "'''\n",
    "Q3) Inside a file called sum.py, write a function called compute_sum that takes in two parameters, m and n. The function returns the sum of all the integers between m and n (both inclusive).\n",
    "\n",
    "Add the following code to sum.py, after your own code:\n",
    "my_sum = compute_sum(4, 10)\n",
    "print(\"The sum is \" + str(my_sum))\n",
    "\n",
    "'''\n",
    "def compute_sum(m, n):\n",
    "    total_sum = 0\n",
    "    for number in range(m, n + 1):\n",
    "        total_sum += number\n",
    "    return total_sum\n",
    "\n",
    "my_sum = compute_sum(4, 10)\n",
    "print(\"The sum is \" + str(my_sum))\n",
    "\n",
    "# OR\n",
    "'''\n",
    "def compute_sum(m, n)\n",
    "    return sum(range(m, n+1))\n",
    "'''"
   ]
  },
  {
   "cell_type": "code",
   "execution_count": 7,
   "metadata": {},
   "outputs": [
    {
     "name": "stdout",
     "output_type": "stream",
     "text": [
      "rotator is a palindrome\n"
     ]
    }
   ],
   "source": [
    "'''\n",
    "Q4: A word is called a palindrome if it reads the same backwards as forwards. For example, “madam” and “rotator” are examples of palindromes. Write a program that prompts the user for a word and checks whether the word is a palindrome. \n",
    "'''\n",
    "user_input = input(\"Enter a word: \")\n",
    "j = -1\n",
    "for i in range(len(user_input)):\n",
    "    if user_input[i] != user_input[j]:\n",
    "        print(f\"{user_input} is not a palindrome\")\n",
    "        break\n",
    "    elif user_input[i] == user_input[j]:\n",
    "        if i == len(user_input) - 1:\n",
    "            print(f\"{user_input} is a palindrome\")\n",
    "        else:\n",
    "            j -= 1\n",
    "            continue"
   ]
  },
  {
   "cell_type": "code",
   "execution_count": 12,
   "metadata": {},
   "outputs": [
    {
     "name": "stdout",
     "output_type": "stream",
     "text": [
      "a) Total price: $29.2\n",
      "b) Average price: $9.73\n",
      "c) Price of the least expensive book: $5.5\n",
      "d) Price of the most expensive book: $15.5\n",
      "e) Numbeer of books cheaper than $10 : 2\n",
      "f) Percentage of books cheaper than $10 : 66.67%\n"
     ]
    }
   ],
   "source": [
    "'''\n",
    "Q5)\n",
    "Write a simple program called books.py that helps a bookstore's customer to gather some statistics of the books she has picked.\n",
    "The program first asks the customer how many books she has in her basket. The program then prompts the customer for the price of each book. After that, the program does the following:\n",
    "a)\tThe program displays the total price of all the books.\n",
    "b)\tThe program displays the average price of all the books.\n",
    "c)\tThe program displays the price of the least expensive book \n",
    "d)\tThe program displays the price of the most expensive book.\n",
    "e)\tThe program displays how many books are cheaper than $10.00.\n",
    "f)\tThe program displays the percentage of books cheaper than $10.00.\n",
    "Note: You may want to use the round() function to limit the number of digits after the decimal point to 2.\n",
    "'''\n",
    "\n",
    "book_numbers = int(input(\"How many books do you have in your basket? \"))\n",
    "least_ex, most_ex, cheap_num, total_price = 0, 0, 0, 0\n",
    "# to get infinity as a float -> float(\"inf\") or float(\"-inf\")\n",
    "\n",
    "for i in range(book_numbers):\n",
    "    book_price = float(input(f\"What is the price of book number {i + 1}? :\"))\n",
    "    total_price += book_price\n",
    "    if book_price > most_ex:\n",
    "        most_ex = book_price\n",
    "    if book_price < least_ex or least_ex == 0:\n",
    "        least_ex = book_price\n",
    "    if book_price < 10:\n",
    "        cheap_num += 1\n",
    "\n",
    "average_price = round(total_price / book_numbers,2)\n",
    "cheap_percent = round(cheap_num / book_numbers * 100, 2)\n",
    "\n",
    "print(f\"a) Total price: ${total_price}\")\n",
    "print(f\"b) Average price: ${average_price}\")\n",
    "print(f\"c) Price of the least expensive book: ${least_ex}\")\n",
    "print(f\"d) Price of the most expensive book: ${most_ex}\")\n",
    "print(f\"e) Numbeer of books cheaper than $10 : {cheap_num}\")\n",
    "print(f\"f) Percentage of books cheaper than $10 : {cheap_percent}%\")"
   ]
  },
  {
   "cell_type": "code",
   "execution_count": 15,
   "metadata": {},
   "outputs": [
    {
     "name": "stdout",
     "output_type": "stream",
     "text": [
      "h\n",
      "he\n",
      "hel\n",
      "hell\n",
      "hello\n",
      "hello\n",
      "hell\n",
      "hel\n",
      "he\n",
      "h\n"
     ]
    }
   ],
   "source": [
    "'''\n",
    "Q6i) Write a program that prompts the user for a string as a message. The program displays a triangle that gradually reveals the whole message.\n",
    "'''\n",
    "\n",
    "input_string = input(\"Enter a message :\")\n",
    "printed_value = \"\"\n",
    "for ch in input_string:\n",
    "    printed_value += ch\n",
    "    print(printed_value)\n",
    "\n",
    "'''\n",
    "Q6ii) Write a similar program that displays the triangle upside down (i.e. letters are removed from the word)\n",
    "'''\n",
    "\n",
    "for i in range(len(input_string) -1, -1, -1):\n",
    "    print(input_string)\n",
    "    input_string = input_string[:i]\n"
   ]
  },
  {
   "cell_type": "code",
   "execution_count": 25,
   "metadata": {},
   "outputs": [
    {
     "name": "stdout",
     "output_type": "stream",
     "text": [
      "False\n"
     ]
    }
   ],
   "source": [
    "'''\n",
    "Q7) Password strength\n",
    "A strong password should have the following criteria: \n",
    "•\tBe at least 8 characters long \n",
    "•\tContain a lower case letter (a-z) \n",
    "•\tContain an upper case letter (A-Z) \n",
    "•\tContain a number (0-9) \n",
    "•\tContain a special character (!@#$) \n",
    "Write a code snippet that asks the user for a password, and then checks for the strength of the password. You should print True if the password is strong, and False otherwise.  \n",
    "Here is an example of how the output may look like with a strong password. \n",
    "Input a password: ThisIsAStrongPassword123! \n",
    "True \n",
    "\n",
    "Here is an example of how the output may look like with a weak password. \n",
    "Input a password: ThisIsAStrongPassword \n",
    "False \n",
    "You should be able to complete your solution in 30 lines of code (or less).\n",
    "\n",
    "'''\n",
    "\n",
    "# lesson of the day: iteration through string might be a good idea\n",
    "\n",
    "input_pw = input(\"Input a password: \")\n",
    "def password_checker(input_pw):\n",
    "    if len(input_pw) <= 8:\n",
    "        return False\n",
    "    upper_present = lower_present = digit_present = special_present = False\n",
    "    for ch in input_pw:\n",
    "        if ch.isupper():\n",
    "            upper_present = True\n",
    "        if ch.islower():\n",
    "            lower_present = True\n",
    "        if ch.isdigit():\n",
    "            digit_present = True\n",
    "        if ch in \"!@#$\":\n",
    "            special_present = True\n",
    "    if upper_present and lower_present and digit_present and special_present:\n",
    "        return True\n",
    "    else:\n",
    "        return False\n",
    "\n",
    "print(password_checker(input_pw))\n"
   ]
  }
 ],
 "metadata": {
  "kernelspec": {
   "display_name": "Python 3.10.1 64-bit",
   "language": "python",
   "name": "python3"
  },
  "language_info": {
   "codemirror_mode": {
    "name": "ipython",
    "version": 3
   },
   "file_extension": ".py",
   "mimetype": "text/x-python",
   "name": "python",
   "nbconvert_exporter": "python",
   "pygments_lexer": "ipython3",
   "version": "3.10.1"
  },
  "orig_nbformat": 4,
  "vscode": {
   "interpreter": {
    "hash": "369f2c481f4da34e4445cda3fffd2e751bd1c4d706f27375911949ba6bb62e1c"
   }
  }
 },
 "nbformat": 4,
 "nbformat_minor": 2
}
